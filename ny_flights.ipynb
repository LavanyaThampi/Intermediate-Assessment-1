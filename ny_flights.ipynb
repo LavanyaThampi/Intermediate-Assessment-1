{
  "nbformat": 4,
  "nbformat_minor": 0,
  "metadata": {
    "colab": {
      "provenance": []
    },
    "kernelspec": {
      "name": "python3",
      "display_name": "Python 3"
    },
    "language_info": {
      "name": "python"
    }
  },
  "cells": [
    {
      "cell_type": "code",
      "execution_count": 1,
      "metadata": {
        "id": "0XH0s5KaUNrx"
      },
      "outputs": [],
      "source": [
        "import pandas as pd\n",
        "import numpy as np\n",
        "import matplotlib.pyplot as plt\n",
        "import seaborn as sns"
      ]
    },
    {
      "cell_type": "code",
      "source": [
        "data = pd.read_csv('ny-flights.csv')\n",
        "print(data.head())"
      ],
      "metadata": {
        "colab": {
          "base_uri": "https://localhost:8080/"
        },
        "id": "Hu4IyZtjnKXG",
        "outputId": "a29bb9e5-15b8-47cb-dec1-d1de94f5a9d0"
      },
      "execution_count": 4,
      "outputs": [
        {
          "output_type": "stream",
          "name": "stdout",
          "text": [
            "               fl_date unique_carrier  airline_id tail_num  fl_num origin  \\\n",
            "0  2014-01-01 00:00:00             AA       19805   N338AA       1    JFK   \n",
            "1  2014-01-01 00:00:00             AA       19805   N335AA       3    JFK   \n",
            "2  2014-01-01 00:00:00             AA       19805   N327AA      21    JFK   \n",
            "3  2014-01-01 00:00:00             AA       19805   N3EHAA      29    LGA   \n",
            "4  2014-01-01 00:00:00             AA       19805   N319AA     117    JFK   \n",
            "\n",
            "  dest  dep_time  dep_delay  arr_time  arr_delay  cancelled  \\\n",
            "0  LAX     914.0       14.0    1238.0       13.0        0.0   \n",
            "1  LAX    1157.0       -3.0    1523.0       13.0        0.0   \n",
            "2  LAX    1902.0        2.0    2224.0        9.0        0.0   \n",
            "3  PBI     722.0       -8.0    1014.0      -26.0        0.0   \n",
            "4  LAX    1347.0        2.0    1706.0        1.0        0.0   \n",
            "\n",
            "                   arr                  dep  \n",
            "0  2014-01-01 12:38:00  2014-01-01 09:14:00  \n",
            "1  2014-01-01 15:23:00  2014-01-01 11:57:00  \n",
            "2  2014-01-01 22:24:00  2014-01-01 19:02:00  \n",
            "3  2014-01-01 10:14:00  2014-01-01 07:22:00  \n",
            "4  2014-01-01 17:06:00  2014-01-01 13:47:00  \n"
          ]
        }
      ]
    },
    {
      "cell_type": "markdown",
      "source": [
        "1. Summary of the Dataset."
      ],
      "metadata": {
        "id": "2ghmGfzfoGUT"
      }
    },
    {
      "cell_type": "code",
      "source": [
        "data.info()"
      ],
      "metadata": {
        "colab": {
          "base_uri": "https://localhost:8080/"
        },
        "id": "FEsJz3nKoIu9",
        "outputId": "44e79d34-d37b-4041-c696-04f63f46b191"
      },
      "execution_count": 5,
      "outputs": [
        {
          "output_type": "stream",
          "name": "stdout",
          "text": [
            "<class 'pandas.core.frame.DataFrame'>\n",
            "RangeIndex: 20817 entries, 0 to 20816\n",
            "Data columns (total 14 columns):\n",
            " #   Column          Non-Null Count  Dtype  \n",
            "---  ------          --------------  -----  \n",
            " 0   fl_date         20817 non-null  object \n",
            " 1   unique_carrier  20817 non-null  object \n",
            " 2   airline_id      20817 non-null  int64  \n",
            " 3   tail_num        20512 non-null  object \n",
            " 4   fl_num          20817 non-null  int64  \n",
            " 5   origin          20817 non-null  object \n",
            " 6   dest            20817 non-null  object \n",
            " 7   dep_time        18462 non-null  float64\n",
            " 8   dep_delay       18462 non-null  float64\n",
            " 9   arr_time        18412 non-null  float64\n",
            " 10  arr_delay       18383 non-null  float64\n",
            " 11  cancelled       20817 non-null  float64\n",
            " 12  arr             18412 non-null  object \n",
            " 13  dep             18462 non-null  object \n",
            "dtypes: float64(5), int64(2), object(7)\n",
            "memory usage: 2.2+ MB\n"
          ]
        }
      ]
    },
    {
      "cell_type": "markdown",
      "source": [
        "2. Size of the Dataset"
      ],
      "metadata": {
        "id": "kU1KKiVapLDf"
      }
    },
    {
      "cell_type": "code",
      "source": [
        "n_rows, n_columns = data.shape\n",
        "print(f\"Number of rows: {n_rows}\")\n",
        "print(f\"Number of columns: {n_columns}\")\n"
      ],
      "metadata": {
        "colab": {
          "base_uri": "https://localhost:8080/"
        },
        "id": "1Zi_iKsKpF55",
        "outputId": "7e237a0f-9677-4598-ac31-419ddbc2552e"
      },
      "execution_count": 7,
      "outputs": [
        {
          "output_type": "stream",
          "name": "stdout",
          "text": [
            "Number of rows: 20817\n",
            "Number of columns: 14\n"
          ]
        }
      ]
    },
    {
      "cell_type": "markdown",
      "source": [
        "3. What are the datatypes of each column"
      ],
      "metadata": {
        "id": "JawwEB7apRnP"
      }
    },
    {
      "cell_type": "code",
      "source": [
        "with open(\"ny-flights.csv\") as file:\n",
        "    data = pd.read_csv(file)\n",
        "print(\"Data types of each column:\")\n",
        "print(data.dtypes)"
      ],
      "metadata": {
        "colab": {
          "base_uri": "https://localhost:8080/"
        },
        "id": "wxstSVkapbX3",
        "outputId": "615bee64-d56e-4d04-9dba-e2e7d7458393"
      },
      "execution_count": 9,
      "outputs": [
        {
          "output_type": "stream",
          "name": "stdout",
          "text": [
            "Data types of each column:\n",
            "fl_date            object\n",
            "unique_carrier     object\n",
            "airline_id          int64\n",
            "tail_num           object\n",
            "fl_num              int64\n",
            "origin             object\n",
            "dest               object\n",
            "dep_time          float64\n",
            "dep_delay         float64\n",
            "arr_time          float64\n",
            "arr_delay         float64\n",
            "cancelled         float64\n",
            "arr                object\n",
            "dep                object\n",
            "dtype: object\n"
          ]
        }
      ]
    },
    {
      "cell_type": "markdown",
      "source": [
        "4. Are there any missing values in the dataset"
      ],
      "metadata": {
        "id": "DefRy_VkpqnT"
      }
    },
    {
      "cell_type": "code",
      "source": [
        "\n",
        "missing_values = data.isnull().sum()\n",
        "print(\"Missing values in each column:\")\n",
        "print(missing_values)"
      ],
      "metadata": {
        "colab": {
          "base_uri": "https://localhost:8080/"
        },
        "id": "QS7Xa-3Wp24z",
        "outputId": "cc7954bd-0e9e-42e0-d767-ffe873db2cde"
      },
      "execution_count": 12,
      "outputs": [
        {
          "output_type": "stream",
          "name": "stdout",
          "text": [
            "Missing values in each column:\n",
            "fl_date              0\n",
            "unique_carrier       0\n",
            "airline_id           0\n",
            "tail_num           305\n",
            "fl_num               0\n",
            "origin               0\n",
            "dest                 0\n",
            "dep_time          2355\n",
            "dep_delay         2355\n",
            "arr_time          2405\n",
            "arr_delay         2434\n",
            "cancelled            0\n",
            "arr               2405\n",
            "dep               2355\n",
            "dtype: int64\n"
          ]
        }
      ]
    },
    {
      "cell_type": "markdown",
      "source": [
        "5. For the given Dataset column arr_delay, calculate the\n",
        "mean, median, and standard deviation."
      ],
      "metadata": {
        "id": "t9VJB2exqQxz"
      }
    },
    {
      "cell_type": "code",
      "source": [
        "mean = data[\"arr_delay\"].mean()\n",
        "median = data[\"arr_delay\"].median()\n",
        "std = data[\"arr_delay\"].std()\n",
        "print(\"Mean of arr_delay:\",mean)\n",
        "print(\"Median of arr_delay:\",median)\n",
        "print(\"Standard deviation of arr_delay:\",std)"
      ],
      "metadata": {
        "colab": {
          "base_uri": "https://localhost:8080/"
        },
        "id": "BH9lyQ-mqutx",
        "outputId": "f2e9fde0-9fc3-4cbb-fbfb-0b5845aab769"
      },
      "execution_count": 13,
      "outputs": [
        {
          "output_type": "stream",
          "name": "stdout",
          "text": [
            "Mean of arr_delay: 21.38073219822662\n",
            "Median of arr_delay: 3.0\n",
            "Standard deviation of arr_delay: 64.6055910802833\n"
          ]
        }
      ]
    },
    {
      "cell_type": "markdown",
      "source": [
        "6. Identify any potential outliers in a numerical column arr_delay"
      ],
      "metadata": {
        "id": "PptL7IVprWZz"
      }
    },
    {
      "cell_type": "code",
      "source": [
        "Q1 = data[\"arr_delay\"].quantile(0.25)\n",
        "Q3 = data[\"arr_delay\"].quantile(0.75)\n",
        "IQR = Q3 - Q1\n",
        "lower_bound = Q1 - 1.5 * IQR\n",
        "upper_bound = Q3 + 1.5 * IQR\n",
        "outliers = data[(data[\"arr_delay\"] < lower_bound) | (data[\"arr_delay\"] > upper_bound)]\n",
        "print(\"Q1:\",Q1)\n",
        "print(\"Q3:\",Q3)\n",
        "print(\"IQR:\",IQR)\n",
        "print(\"Lower bound for outliers:\",lower_bound)\n",
        "print(f\"Upper bound for outliers:\", upper_bound)\n",
        "print(\"Number of potential outliers:\",outliers)\n",
        "print(\"\\nPotential outliers:\")\n",
        "print(outliers[[\"arr_delay\"]])"
      ],
      "metadata": {
        "colab": {
          "base_uri": "https://localhost:8080/"
        },
        "id": "Ds-AB0U6rxmO",
        "outputId": "0b4acace-208d-4377-fd91-20428cf9f45f"
      },
      "execution_count": 15,
      "outputs": [
        {
          "output_type": "stream",
          "name": "stdout",
          "text": [
            "Q1: -12.0\n",
            "Q3: 28.0\n",
            "IQR: 40.0\n",
            "Lower bound for outliers: -72.0\n",
            "Upper bound for outliers: 88.0\n",
            "Number of potential outliers:                    fl_date unique_carrier  airline_id tail_num  fl_num origin  \\\n",
            "11     2014-01-01 00:00:00             AA       19805   N336AA     181    JFK   \n",
            "25     2014-01-01 00:00:00             AA       19805   N553AA     341    LGA   \n",
            "77     2014-01-01 00:00:00             B6       20409   N337JB     316    JFK   \n",
            "79     2014-01-01 00:00:00             B6       20409   N337JB    1515    SYR   \n",
            "80     2014-01-01 00:00:00             B6       20409   N337JB    1729    JFK   \n",
            "...                    ...            ...         ...      ...     ...    ...   \n",
            "20657  2014-01-31 00:00:00             DL       19790   N977DL    2219    LGA   \n",
            "20658  2014-01-31 00:00:00             DL       19790   N900DE    2231    LGA   \n",
            "20696  2014-01-31 00:00:00             MQ       20398   N856MQ    2875    ART   \n",
            "20773  2014-01-31 00:00:00             EV       20366   N828AS    5726    ROC   \n",
            "20811  2014-01-31 00:00:00             UA       19977   N37255    1206    LGA   \n",
            "\n",
            "      dest  dep_time  dep_delay  arr_time  arr_delay  cancelled  \\\n",
            "11     LAX    1907.0      142.0    2223.0      133.0        0.0   \n",
            "25     ORD    1612.0       52.0    1836.0       91.0        0.0   \n",
            "77     SYR    1407.0      127.0    1517.0      129.0        0.0   \n",
            "79     JFK    1550.0      126.0    1654.0      115.0        0.0   \n",
            "80     RSW    1741.0      126.0    2048.0      111.0        0.0   \n",
            "...    ...       ...        ...       ...        ...        ...   \n",
            "20657  MSP    1252.0       87.0    1507.0       91.0        0.0   \n",
            "20658  DTW    1900.0      150.0    2058.0      134.0        0.0   \n",
            "20696  ORD     917.0      117.0    1055.0      115.0        0.0   \n",
            "20773  ORD    1942.0      202.0    2053.0      214.0        0.0   \n",
            "20811  DEN    1225.0       73.0    1543.0      121.0        0.0   \n",
            "\n",
            "                       arr                  dep  \n",
            "11     2014-01-01 22:23:00  2014-01-01 19:07:00  \n",
            "25     2014-01-01 18:36:00  2014-01-01 16:12:00  \n",
            "77     2014-01-01 15:17:00  2014-01-01 14:07:00  \n",
            "79     2014-01-01 16:54:00  2014-01-01 15:50:00  \n",
            "80     2014-01-01 20:48:00  2014-01-01 17:41:00  \n",
            "...                    ...                  ...  \n",
            "20657  2014-01-31 15:07:00  2014-01-31 12:52:00  \n",
            "20658  2014-01-31 20:58:00  2014-01-31 19:00:00  \n",
            "20696  2014-01-31 10:55:00  2014-01-31 09:17:00  \n",
            "20773  2014-01-31 20:53:00  2014-01-31 19:42:00  \n",
            "20811  2014-01-31 15:43:00  2014-01-31 12:25:00  \n",
            "\n",
            "[1705 rows x 14 columns]\n",
            "\n",
            "Potential outliers:\n",
            "       arr_delay\n",
            "11         133.0\n",
            "25          91.0\n",
            "77         129.0\n",
            "79         115.0\n",
            "80         111.0\n",
            "...          ...\n",
            "20657       91.0\n",
            "20658      134.0\n",
            "20696      115.0\n",
            "20773      214.0\n",
            "20811      121.0\n",
            "\n",
            "[1705 rows x 1 columns]\n"
          ]
        }
      ]
    },
    {
      "cell_type": "markdown",
      "source": [
        "7. Correlation matrix for the given dataset ny-flights."
      ],
      "metadata": {
        "id": "EuKeLKVGsTkP"
      }
    },
    {
      "cell_type": "code",
      "source": [
        "num_columns = data.select_dtypes(include='number').columns\n",
        "corr_matrix = data[num_columns].corr()\n",
        "print(\"Correlation matrix:\")\n",
        "print(corr_matrix)"
      ],
      "metadata": {
        "colab": {
          "base_uri": "https://localhost:8080/"
        },
        "id": "xZ2wntIhsRV5",
        "outputId": "f17c5202-565d-419b-e0a3-4e9b7173ba7e"
      },
      "execution_count": 16,
      "outputs": [
        {
          "output_type": "stream",
          "name": "stdout",
          "text": [
            "Correlation matrix:\n",
            "            airline_id    fl_num  dep_time  dep_delay  arr_time  arr_delay  \\\n",
            "airline_id    1.000000  0.165427  0.068787  -0.001510  0.000359   0.018637   \n",
            "fl_num        0.165427  1.000000  0.037538   0.003662  0.015185   0.009601   \n",
            "dep_time      0.068787  0.037538  1.000000   0.205036  0.658571   0.168048   \n",
            "dep_delay    -0.001510  0.003662  0.205036   1.000000  0.033294   0.952380   \n",
            "arr_time      0.000359  0.015185  0.658571   0.033294  1.000000   0.013732   \n",
            "arr_delay     0.018637  0.009601  0.168048   0.952380  0.013732   1.000000   \n",
            "cancelled     0.081613  0.113438  0.008808   0.088048       NaN        NaN   \n",
            "\n",
            "            cancelled  \n",
            "airline_id   0.081613  \n",
            "fl_num       0.113438  \n",
            "dep_time     0.008808  \n",
            "dep_delay    0.088048  \n",
            "arr_time          NaN  \n",
            "arr_delay         NaN  \n",
            "cancelled    1.000000  \n"
          ]
        }
      ]
    },
    {
      "cell_type": "markdown",
      "source": [
        "8. Heatmap for the correlation matrix above"
      ],
      "metadata": {
        "id": "E4SSIUxjsrfk"
      }
    },
    {
      "cell_type": "code",
      "source": [
        "sns.heatmap(corr_matrix, annot=True, cmap='plasma')\n",
        "plt.title('Correlation Heatmap')\n",
        "plt.show()\n"
      ],
      "metadata": {
        "colab": {
          "base_uri": "https://localhost:8080/",
          "height": 510
        },
        "id": "wGqkMOwRs8Q4",
        "outputId": "0a47f7e5-a743-4104-e7a5-57bf9dc4cdc9"
      },
      "execution_count": 18,
      "outputs": [
        {
          "output_type": "display_data",
          "data": {
            "text/plain": [
              "<Figure size 640x480 with 2 Axes>"
            ],
            "image/png": "[encoded data removed]"
          },
          "metadata": {}
        }
      ]
    }
  ]
}